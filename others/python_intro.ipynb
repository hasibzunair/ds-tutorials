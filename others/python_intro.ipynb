{
  "cells": [
    {
      "cell_type": "markdown",
      "metadata": {
        "id": "z2EEq19Lfk4N"
      },
      "source": [
        "## Intro to Python Programming Language"
      ]
    },
    {
      "cell_type": "code",
      "source": [
        "!git clone https://github.com/hasibzunair/ericsson-upskill-tutorials\n",
        "%cd ericsson-upskill-tutorials/others"
      ],
      "metadata": {
        "id": "5_aydlJ8frig"
      },
      "execution_count": null,
      "outputs": []
    },
    {
      "cell_type": "code",
      "execution_count": null,
      "metadata": {
        "id": "LNn8lUwWfk4R"
      },
      "outputs": [],
      "source": [
        "# Let's ignore this block of code for now.....\n",
        "import os\n",
        "from IPython.display import display as ipydisplay, Image, clear_output, HTML\n",
        "\n",
        "IMAGES_FOLDER = os.path.join('media')\n",
        "\n",
        "def show_image(name):\n",
        "    fname = os.path.join(IMAGES_FOLDER, name)\n",
        "    ipydisplay(Image(fname))"
      ]
    },
    {
      "cell_type": "code",
      "execution_count": null,
      "metadata": {
        "id": "3LSBTuJTfk4S"
      },
      "outputs": [],
      "source": [
        "#show_image('python.png')"
      ]
    },
    {
      "cell_type": "code",
      "execution_count": null,
      "metadata": {
        "id": "S0a6ryEIfk4U"
      },
      "outputs": [],
      "source": [
        "print(\"Hello World\")"
      ]
    },
    {
      "cell_type": "code",
      "execution_count": null,
      "metadata": {
        "id": "WJqt-frqfk4U"
      },
      "outputs": [],
      "source": [
        "\"\"\" This is a multi line\n",
        "    comment. See?\n",
        "    I'm in a new line now\n",
        "\"\"\"\n",
        "\n",
        "\n",
        "# This is single line comment"
      ]
    },
    {
      "cell_type": "markdown",
      "metadata": {
        "id": "oh0thqqDfk4V"
      },
      "source": [
        "### 1. Primitive Datatypes and Operators"
      ]
    },
    {
      "cell_type": "code",
      "execution_count": null,
      "metadata": {
        "id": "58dLQiQ2fk4V"
      },
      "outputs": [],
      "source": [
        "1"
      ]
    },
    {
      "cell_type": "code",
      "execution_count": null,
      "metadata": {
        "id": "CBhqjf6Lfk4W"
      },
      "outputs": [],
      "source": [
        "# Math is what you would expect\n",
        "\n",
        "1 + 1   # => 2\n",
        "8 - 1   # => 7\n",
        "10 * 2  # => 20\n",
        "35 / 5  # => 7.0"
      ]
    },
    {
      "cell_type": "code",
      "execution_count": null,
      "metadata": {
        "id": "AmUjdnZSfk4W"
      },
      "outputs": [],
      "source": [
        "# Integer division rounds down for both positive and negative numbers.\n",
        "\n",
        "5 // 3       # => 1\n",
        "-5 // 3      # => -2\n",
        "5.0 // 3.0   # => 1.0 # works on floats too\n",
        "-5.0 // 3.0  # => -2.0"
      ]
    },
    {
      "cell_type": "code",
      "execution_count": null,
      "metadata": {
        "id": "Hj40pgrofk4X"
      },
      "outputs": [],
      "source": [
        "# The result of division is always a float\n",
        "\n",
        "10.0 / 3  # => 3.3333333333333335"
      ]
    },
    {
      "cell_type": "code",
      "execution_count": null,
      "metadata": {
        "id": "ouBCIp5lfk4X"
      },
      "outputs": [],
      "source": [
        "# Modulo operation\n",
        "\n",
        "7 % 3  # => Remainder is 1"
      ]
    },
    {
      "cell_type": "code",
      "execution_count": null,
      "metadata": {
        "id": "pgfLvaEJfk4X"
      },
      "outputs": [],
      "source": [
        "# Exponentiation (x**y, x to the yth power)\n",
        "\n",
        "2**3  # => 8"
      ]
    },
    {
      "cell_type": "code",
      "execution_count": null,
      "metadata": {
        "id": "kM-08DiQfk4Y"
      },
      "outputs": [],
      "source": [
        "# Exponentiation 1e-2 --->  1 x 10^-2\n",
        "\n",
        "1e-2 # => 0.01"
      ]
    },
    {
      "cell_type": "code",
      "execution_count": null,
      "metadata": {
        "id": "Kocdwimefk4Y"
      },
      "outputs": [],
      "source": [
        "# Enforce precedence with parentheses\n",
        "\n",
        "(1 + 3) * 2  # => 8"
      ]
    },
    {
      "cell_type": "code",
      "execution_count": null,
      "metadata": {
        "id": "WRSXkXnQfk4Y"
      },
      "outputs": [],
      "source": [
        "# Boolean values are primitives (Note: the capitalization)\n",
        "True\n",
        "False"
      ]
    },
    {
      "cell_type": "code",
      "execution_count": null,
      "metadata": {
        "id": "e3HqRmaHfk4Z"
      },
      "outputs": [],
      "source": [
        "# negate with not\n",
        "\n",
        "not True   # => False\n",
        "not False  # => True"
      ]
    },
    {
      "cell_type": "code",
      "execution_count": null,
      "metadata": {
        "id": "DcHLEEYGfk4Z"
      },
      "outputs": [],
      "source": [
        "# Boolean Operators\n",
        "# Note \"and\" and \"or\" are case-sensitive\n",
        "\n",
        "True and False  # => False\n",
        "False or True   # => True"
      ]
    },
    {
      "cell_type": "markdown",
      "metadata": {
        "id": "GZ3HvLlRfk4Z"
      },
      "source": [
        "### Creepy stuff!"
      ]
    },
    {
      "cell_type": "code",
      "execution_count": null,
      "metadata": {
        "id": "aYtgdDNxfk4Z"
      },
      "outputs": [],
      "source": [
        "# True and False are actually 1 and 0 but with different keywords\n",
        "\n",
        "True + True # => 2\n",
        "True * 8    # => 8\n",
        "False - 5   # => -5"
      ]
    },
    {
      "cell_type": "code",
      "execution_count": null,
      "metadata": {
        "id": "SE8zLtIrfk4Z"
      },
      "outputs": [],
      "source": [
        "# Comparison operators look at the numerical value of True and False\n",
        "\n",
        "0 == False  # => True\n",
        "1 == True   # => True\n",
        "2 == True   # => False\n",
        "-5 != False # => True"
      ]
    },
    {
      "cell_type": "code",
      "execution_count": null,
      "metadata": {
        "id": "3Jj4sNjzfk4a"
      },
      "outputs": [],
      "source": [
        "# Equality is ==\n",
        "\n",
        "1 == 1  # => True\n",
        "2 == 1  # => False"
      ]
    },
    {
      "cell_type": "code",
      "execution_count": null,
      "metadata": {
        "id": "xlMsEo4Afk4a"
      },
      "outputs": [],
      "source": [
        "# Inequality is !=\n",
        "\n",
        "1 != 1  # => False\n",
        "2 != 1  # => True"
      ]
    },
    {
      "cell_type": "code",
      "execution_count": null,
      "metadata": {
        "id": "avLgJCaofk4a"
      },
      "outputs": [],
      "source": [
        "# More comparisons\n",
        "\n",
        "1 < 10  # => True\n",
        "1 > 10  # => False\n",
        "2 <= 2  # => True\n",
        "2 >= 2  # => True"
      ]
    },
    {
      "cell_type": "code",
      "execution_count": null,
      "metadata": {
        "id": "npc0IGNifk4a"
      },
      "outputs": [],
      "source": [
        "# Seeing whether a value is in a range\n",
        "\n",
        "1 < 2 and 2 < 3  # => True\n",
        "2 < 3 and 3 < 2  # => False\n",
        "\n",
        "\n",
        "# Chaining makes this look nicer\n",
        "1 < 2 < 3  # => True\n",
        "2 < 3 < 2  # => False"
      ]
    },
    {
      "cell_type": "code",
      "execution_count": null,
      "metadata": {
        "id": "aev78HCPfk4b"
      },
      "outputs": [],
      "source": [
        "# (is vs. ==) is checks if two variables refer to the same object, but == checks if the objects pointed to have the same values.\n",
        "\n",
        "a = [1, 2, 3, 4]  # Point a at a new list, [1, 2, 3, 4]\n",
        "b = a             # Point b at what a is pointing to\n",
        "b is a            # => True, a and b refer to the same object\n",
        "b == a            # => True, a's and b's objects are equal\n",
        "b = [1, 2, 3, 4]  # Point b at a new list, [1, 2, 3, 4]\n",
        "b is a            # => False, a and b do not refer to the same object\n",
        "b == a            # => True, a's and b's objects are equal"
      ]
    },
    {
      "cell_type": "code",
      "execution_count": null,
      "metadata": {
        "id": "90dye7zRfk4b"
      },
      "outputs": [],
      "source": [
        "\"Hasib\" is \"Hasib\""
      ]
    },
    {
      "cell_type": "code",
      "execution_count": null,
      "metadata": {
        "id": "NDlwcRcsfk4b"
      },
      "outputs": [],
      "source": [
        "\"Hasib\" is not \"Hasib\""
      ]
    },
    {
      "cell_type": "code",
      "execution_count": null,
      "metadata": {
        "id": "iG5puyFffk4b"
      },
      "outputs": [],
      "source": [
        "\"Haisb\" is None"
      ]
    },
    {
      "cell_type": "code",
      "execution_count": null,
      "metadata": {
        "id": "bp0xmBIYfk4b"
      },
      "outputs": [],
      "source": [
        "# Strings are created with \" or '\n",
        "\n",
        "\"This is a string.\"\n",
        "'This is also a string.'"
      ]
    },
    {
      "cell_type": "code",
      "execution_count": null,
      "metadata": {
        "id": "cfEzCLXdfk4c"
      },
      "outputs": [],
      "source": [
        "# Strings can be added too! But try not to do this.\n",
        "\"Hello \" + \"world!\"  # => \"Hello world!\"\n",
        "\n",
        "# String literals (but not variables) can be concatenated without using '+'\n",
        "\"Hello \" \"world!\"    # => \"Hello world!\"\n",
        "\n",
        "# A string can be treated like a list of characters\n",
        "\"This is a string\"[0]  # => 'T'\n",
        "\n",
        "# You can find the length of a string\n",
        "len(\"This is a string\")  # => 16\n",
        "\n",
        "# .format can be used to format strings, like this:\n",
        "\"{} likes to {}\".format(\"Hasib\", \"eat\")  # => \"Strings can be interpolated\"\n"
      ]
    },
    {
      "cell_type": "code",
      "execution_count": null,
      "metadata": {
        "id": "bRKkEEorfk4c"
      },
      "outputs": [],
      "source": [
        "# None is an object\n",
        "\n",
        "None  # => None"
      ]
    },
    {
      "cell_type": "code",
      "execution_count": null,
      "metadata": {
        "id": "sJaNk6f8fk4c"
      },
      "outputs": [],
      "source": [
        "# Don't use the equality \"==\" symbol to compare objects to None\n",
        "# Use \"is\" instead. This checks for equality of object identity.\n",
        "\n",
        "\"etc\" is None  # => False\n",
        "None is None   # => True"
      ]
    },
    {
      "cell_type": "markdown",
      "metadata": {
        "id": "2Ne_kRx4fk4c"
      },
      "source": [
        "### 2. Variables and Collections"
      ]
    },
    {
      "cell_type": "code",
      "execution_count": null,
      "metadata": {
        "id": "kqDO0K66fk4d"
      },
      "outputs": [],
      "source": [
        "print(\"I'm Hasib. Nice to meet you!\")  # => I'm Hasib. Nice to meet you!"
      ]
    },
    {
      "cell_type": "code",
      "execution_count": null,
      "metadata": {
        "id": "wh0B6Vylfk4d"
      },
      "outputs": [],
      "source": [
        "# Simple way to get input data from console\n",
        "\n",
        "input_string_var = input(\"Enter some data: \") # Returns the data as a string\n",
        "print(\"The user gave me a {}\".format(input_string_var))"
      ]
    },
    {
      "cell_type": "code",
      "execution_count": null,
      "metadata": {
        "id": "2sbDqS-nfk4d"
      },
      "outputs": [],
      "source": [
        "# There are no declarations, only assignments.\n",
        "# Convention is to use lower_case_with_underscores\n",
        "\n",
        "some_var = 5\n",
        "some_var  # => 5"
      ]
    },
    {
      "cell_type": "markdown",
      "metadata": {
        "id": "7pduPmSvfk4d"
      },
      "source": [
        "### The mighty data structures!"
      ]
    },
    {
      "cell_type": "code",
      "execution_count": null,
      "metadata": {
        "id": "4-zemQhbfk4d"
      },
      "outputs": [],
      "source": [
        "# Lists store sequences\n",
        "li = []\n",
        "\n",
        "# You can start with a prefilled list\n",
        "other_li = [4, 5, 6]"
      ]
    },
    {
      "cell_type": "code",
      "execution_count": null,
      "metadata": {
        "id": "HnIkonZHfk4e"
      },
      "outputs": [],
      "source": [
        "# Add stuff to the end of a list with append\n",
        "\n",
        "li.append(1)    # li is now [1]\n",
        "li.append(2)    # li is now [1, 2]\n",
        "li.append(4)    # li is now [1, 2, 4]\n",
        "li.append(3)    # li is now [1, 2, 4, 3]\n",
        "# Remove from the end with pop\n",
        "li.pop()        # => 3 and li is now [1, 2, 4]\n",
        "# Let's put it back\n",
        "li.append(3)    # li is now [1, 2, 4, 3] again.\n",
        "\n",
        "li"
      ]
    },
    {
      "cell_type": "code",
      "execution_count": null,
      "metadata": {
        "id": "BvyVMNvSfk4j"
      },
      "outputs": [],
      "source": [
        "# Access a list like you would any array\n",
        "\n",
        "li[0]   # => 1\n",
        "\n",
        "# Look at the last element\n",
        "li[-1]  # => 3"
      ]
    },
    {
      "cell_type": "markdown",
      "metadata": {
        "id": "RmJnR1CWfk4k"
      },
      "source": [
        "### Oh no! An error! :'("
      ]
    },
    {
      "cell_type": "code",
      "execution_count": null,
      "metadata": {
        "id": "Jaz7wGPrfk4k"
      },
      "outputs": [],
      "source": [
        "# Looking out of bounds is an IndexError\n",
        "\n",
        "li[4]  # Raises an IndexError"
      ]
    },
    {
      "cell_type": "code",
      "execution_count": null,
      "metadata": {
        "id": "PoHWGHHzfk4k"
      },
      "outputs": [],
      "source": [
        "# You can look at ranges with slice syntax.\n",
        "# The start index is included, the end index is not\n",
        "# (It's a closed/open range for you mathy types.)\n",
        "\n",
        "# li = [1, 2, 4, 3]\n",
        "\n",
        "li[1:3]   # => [2, 4]\n",
        "\n",
        "# Omit the beginning and return the list\n",
        "li[2:]    # => [4, 3]\n",
        "\n",
        "# Omit the end and return the list\n",
        "li[:3]    # => [1, 2, 4]\n",
        "\n",
        "# Select every second entry\n",
        "li[::2]   # =>[1, 4]\n",
        "\n",
        "# Return a reversed copy of the list\n",
        "li[::-1]  # => [3, 4, 2, 1]\n",
        "\n",
        "# Use any combination of these to make advanced slices\n",
        "# li[start:end:step]"
      ]
    },
    {
      "cell_type": "code",
      "execution_count": null,
      "metadata": {
        "id": "NIgL8VT8fk4k"
      },
      "outputs": [],
      "source": [
        "# Remove arbitrary elements from a list with \"del\"\n",
        "\n",
        "del li[2]  # li is now [1, 2, 3]\n",
        "li"
      ]
    },
    {
      "cell_type": "code",
      "source": [
        "li = [1, 2, 3]"
      ],
      "metadata": {
        "id": "cBRyo1C5vK8j"
      },
      "execution_count": null,
      "outputs": []
    },
    {
      "cell_type": "code",
      "execution_count": null,
      "metadata": {
        "id": "RIb3Njdrfk4k"
      },
      "outputs": [],
      "source": [
        "# Remove first occurrence of a value\n",
        "# removes value and not the index\n",
        "\n",
        "li.remove(2)  # li is now [1, 3]\n",
        "li"
      ]
    },
    {
      "cell_type": "code",
      "execution_count": null,
      "metadata": {
        "id": "f-WTnRBdfk4l"
      },
      "outputs": [],
      "source": [
        "li.remove(2)  # Raises a ValueError as 2 is not in the list"
      ]
    },
    {
      "cell_type": "markdown",
      "metadata": {
        "id": "TV7EFl78fk4l"
      },
      "source": [
        "### Another error! What are we doing!!?"
      ]
    },
    {
      "cell_type": "code",
      "execution_count": null,
      "metadata": {
        "id": "FdgYK-A-fk4l"
      },
      "outputs": [],
      "source": [
        "# Insert an element at a specific index\n",
        "\n",
        "li.insert(1, 2)  # li is now [1, 2, 3] again\n",
        "\n",
        "# Get the index of the first item found matching the argument\n",
        "\n",
        "li.index(2)  # => 1\n",
        "li.index(4)  # Raises a ValueError as 4 is not in the list"
      ]
    },
    {
      "cell_type": "code",
      "execution_count": null,
      "metadata": {
        "id": "BtWxGHgwfk4l"
      },
      "outputs": [],
      "source": [
        "# You can add lists\n",
        "# Note: values for li and for other_li are not modified.\n",
        "\n",
        "li + other_li  # => [1, 2, 3, 4, 5, 6]\n"
      ]
    },
    {
      "cell_type": "code",
      "execution_count": null,
      "metadata": {
        "id": "dY_jJ9fZfk4m"
      },
      "outputs": [],
      "source": [
        "# Concatenate lists with \"extend()\"\n",
        "\n",
        "li.extend(other_li)  # Now li is [1, 2, 3, 4, 5, 6]\n",
        "li"
      ]
    },
    {
      "cell_type": "code",
      "execution_count": null,
      "metadata": {
        "id": "PSECdjL7fk4m"
      },
      "outputs": [],
      "source": [
        "# Check for existence in a list with \"in\"\n",
        "1 in li  # => True\n",
        "\n",
        "# Examine the length with \"len()\"\n",
        "len(li)  # => 6"
      ]
    },
    {
      "cell_type": "code",
      "execution_count": null,
      "metadata": {
        "id": "Rktm8lAmfk4m"
      },
      "outputs": [],
      "source": [
        "# Tuples are like lists but are immutable.\n",
        "\n",
        "tup = (1, 2, 3)\n",
        "tup[0]      # => 1"
      ]
    },
    {
      "cell_type": "markdown",
      "metadata": {
        "id": "h5FO1HrNfk4m"
      },
      "source": [
        "### Another error..."
      ]
    },
    {
      "cell_type": "code",
      "execution_count": null,
      "metadata": {
        "id": "oQgr6MPkfk4m"
      },
      "outputs": [],
      "source": [
        "# Cannot assign values in tuples after initialization\n",
        "\n",
        "tup[0] = 3  # Raises a TypeError"
      ]
    },
    {
      "cell_type": "code",
      "execution_count": null,
      "metadata": {
        "id": "YbotgBMWfk4n"
      },
      "outputs": [],
      "source": [
        "# Note that a tuple of length one has to have a comma after the last element but\n",
        "# tuples of other lengths, even zero, do not.\n",
        "\n",
        "type((1))   # => <class 'int'>\n",
        "type((1,))  # => <class 'tuple'>\n",
        "type(())    # => <class 'tuple'>"
      ]
    },
    {
      "cell_type": "code",
      "execution_count": null,
      "metadata": {
        "id": "OkmLprf_fk4n"
      },
      "outputs": [],
      "source": [
        "# You can do most of the list operations on tuples too\n",
        "\n",
        "len(tup)         # => 3\n",
        "tup + (4, 5, 6)  # => (1, 2, 3, 4, 5, 6)\n",
        "tup[:2]          # => (1, 2)\n",
        "2 in tup         # => True"
      ]
    },
    {
      "cell_type": "code",
      "execution_count": null,
      "metadata": {
        "id": "hSLmGvwLfk4n"
      },
      "outputs": [],
      "source": [
        "# You can unpack tuples (or lists) into variables\n",
        "a, b, c = (1, 2, 3)  # a is now 1, b is now 2 and c is now 3\n",
        "\n",
        "# You can also do extended unpacking\n",
        "a, *b, c = (1, 2, 3, 4)  # a is now 1, b is now [2, 3] and c is now 4\n",
        "\n",
        "# Tuples are created by default if you leave out the parentheses\n",
        "d, e, f = 4, 5, 6  # tuple 4, 5, 6 is unpacked into variables d, e and f\n",
        "# respectively such that d = 4, e = 5 and f = 6\n",
        "\n",
        "# Now look how easy it is to swap two values\n",
        "e, d = d, e  # d is now 5 and e is now 4\n",
        "print(e, d)"
      ]
    },
    {
      "cell_type": "code",
      "execution_count": null,
      "metadata": {
        "id": "h17dj5IDfk4n"
      },
      "outputs": [],
      "source": [
        "# Dictionaries store mappings from keys to values\n",
        "empty_dict = {}\n",
        "\n",
        "# Here is a prefilled dictionary\n",
        "filled_dict = {\"one\": 1, \"two\": 2, \"three\": 3}"
      ]
    },
    {
      "cell_type": "code",
      "execution_count": null,
      "metadata": {
        "id": "gcEUhQRvfk4o"
      },
      "outputs": [],
      "source": [
        "# Look up values with []\n",
        "filled_dict[\"one\"]  # => 1"
      ]
    },
    {
      "cell_type": "code",
      "execution_count": null,
      "metadata": {
        "id": "QFfPEU2tfk4o"
      },
      "outputs": [],
      "source": [
        "# Get all keys from dict\n",
        "\n",
        "list(filled_dict.keys())"
      ]
    },
    {
      "cell_type": "code",
      "execution_count": null,
      "metadata": {
        "id": "KtK2909Tfk4o"
      },
      "outputs": [],
      "source": [
        "# Get all values from dict\n",
        "\n",
        "list(filled_dict.values())"
      ]
    },
    {
      "cell_type": "code",
      "execution_count": null,
      "metadata": {
        "id": "3G67hQkufk4o"
      },
      "outputs": [],
      "source": [
        "# Check for existence of keys in a dictionary with \"in\"\n",
        "\n",
        "\"one\" in filled_dict  # => True"
      ]
    },
    {
      "cell_type": "code",
      "execution_count": null,
      "metadata": {
        "id": "KBYZKSjjfk4p"
      },
      "outputs": [],
      "source": [
        "1 in filled_dict      # => False"
      ]
    },
    {
      "cell_type": "code",
      "execution_count": null,
      "metadata": {
        "id": "ps_fFATYfk4p"
      },
      "outputs": [],
      "source": [
        "# Looking up a non-existing key is a KeyError\n",
        "\n",
        "filled_dict[\"four\"]  # KeyError"
      ]
    },
    {
      "cell_type": "code",
      "execution_count": null,
      "metadata": {
        "id": "lRfBHctzfk4p"
      },
      "outputs": [],
      "source": [
        "# Add/Update to dictionary\n",
        "\n",
        "filled_dict[\"four\"] = 4\n",
        "filled_dict"
      ]
    },
    {
      "cell_type": "code",
      "execution_count": null,
      "metadata": {
        "id": "pkE7F7jffk4p"
      },
      "outputs": [],
      "source": [
        "# Remove keys from a dictionary with del\n",
        "\n",
        "del filled_dict[\"one\"]  # Removes the key \"one\" from filled dict\n",
        "filled_dict"
      ]
    },
    {
      "cell_type": "code",
      "execution_count": null,
      "metadata": {
        "id": "CLIxhSmffk4p"
      },
      "outputs": [],
      "source": [
        "# Sets\n",
        "\n",
        "empty_set = set()\n",
        "\n",
        "# Initialize a set with a bunch of values. Yeah, it looks a bit like a dict. Sorry.\n",
        "some_set = {1, 1, 1, 1, 2, 2, 2, 2, 2, 3, 4}\n",
        "some_set  # where are the other values? :O"
      ]
    },
    {
      "cell_type": "code",
      "execution_count": null,
      "metadata": {
        "id": "0r15bpH6fk4q"
      },
      "outputs": [],
      "source": [
        "# Add one more item to the set\n",
        "\n",
        "filled_set = some_set\n",
        "filled_set.add(5)  # filled_set is now {1, 2, 3, 4, 5}\n",
        "\n",
        "# Sets do not have duplicate elements\n",
        "\n",
        "filled_set.add(5)  # it remains as before {1, 2, 3, 4, 5}\n",
        "filled_set"
      ]
    },
    {
      "cell_type": "code",
      "execution_count": null,
      "metadata": {
        "id": "RGXQv6L2fk4q"
      },
      "outputs": [],
      "source": [
        "# Do set intersection with &\n",
        "\n",
        "other_set = {3, 4, 5, 6}\n",
        "filled_set & other_set  # => {3, 4, 5}"
      ]
    },
    {
      "cell_type": "code",
      "execution_count": null,
      "metadata": {
        "id": "uCZu3QvMfk4q"
      },
      "outputs": [],
      "source": [
        "# Do set difference with -\n",
        "\n",
        "{1, 2, 3, 4} - {2, 3, 5}  # => {1, 4}"
      ]
    },
    {
      "cell_type": "code",
      "execution_count": null,
      "metadata": {
        "id": "5pUnGLenfk4q"
      },
      "outputs": [],
      "source": [
        "# Check for existence in a set with in\n",
        "\n",
        "2 in filled_set   # => True\n",
        "10 in filled_set  # => False"
      ]
    },
    {
      "cell_type": "markdown",
      "metadata": {
        "id": "8LwiD7A6fk4r"
      },
      "source": [
        "### 3. Control Flow and Iterables"
      ]
    },
    {
      "cell_type": "code",
      "execution_count": null,
      "metadata": {
        "id": "BX-o7jy5fk4r"
      },
      "outputs": [],
      "source": [
        "# Let's just make a variable\n",
        "\n",
        "some_var = 10"
      ]
    },
    {
      "cell_type": "code",
      "execution_count": null,
      "metadata": {
        "id": "G6HEf-p_fk4r"
      },
      "outputs": [],
      "source": [
        "if some_var > 10:\n",
        "    print(\"some_var is totally bigger than 10.\")\n",
        "elif some_var < 10:    # This elif clause is optional.\n",
        "    print(\"some_var is smaller than 10.\")\n",
        "else:                  # This is optional too.\n",
        "    print(\"some_var is indeed 10.\")"
      ]
    },
    {
      "cell_type": "markdown",
      "metadata": {
        "id": "_4hXfAnefk4r"
      },
      "source": [
        "### For loops iterate over lists\n",
        "\n",
        "**CAUTION: VERY DIFFERENT FROM OTHER PROGRAMMING LANGUAGES SUCH AS C/C++, Java.**"
      ]
    },
    {
      "cell_type": "code",
      "execution_count": null,
      "metadata": {
        "id": "-AuNv7Jdfk4r"
      },
      "outputs": [],
      "source": [
        "for animal in [\"dog\", \"cat\", \"mouse\"]:\n",
        "\n",
        "    print(\"{} is a mammal\".format(animal))"
      ]
    },
    {
      "cell_type": "code",
      "execution_count": null,
      "metadata": {
        "id": "x7TmGxyJfk4r"
      },
      "outputs": [],
      "source": [
        "nums = [5, 12, 2, 3, 1, 8]\n",
        "\n",
        "for i, number in enumerate(nums):\n",
        "    print(i, \"-----\", number)"
      ]
    },
    {
      "cell_type": "code",
      "execution_count": null,
      "metadata": {
        "id": "bYpqfpMefk4s"
      },
      "outputs": [],
      "source": [
        "# iterate over two lists\n",
        "\n",
        "a = [\"a\", \"b\", \"c\"]\n",
        "b = [\"d\", \"e\", \"f\"]\n",
        "\n",
        "for x, y in zip(a,b):\n",
        "    print(x, '------', y)"
      ]
    },
    {
      "cell_type": "code",
      "execution_count": null,
      "metadata": {
        "id": "lEf-5RLYfk4s"
      },
      "outputs": [],
      "source": [
        "d = {'1': 'one', '2': 'two', '3': 'three'}\n",
        "\n",
        "for key, value in d.items():\n",
        "    print(key, '--->', value)"
      ]
    },
    {
      "cell_type": "markdown",
      "metadata": {
        "id": "NBXk5o-wfk4s"
      },
      "source": [
        "A more pythonic way to do the above.."
      ]
    },
    {
      "cell_type": "code",
      "execution_count": null,
      "metadata": {
        "id": "OgguYc7yfk4s"
      },
      "outputs": [],
      "source": [
        "d = {'1': 'one', '2': 'two', '3': 'three'}\n",
        "\n",
        "for key, value in d.items():\n",
        "    print(key, '--->', value)"
      ]
    },
    {
      "cell_type": "markdown",
      "metadata": {
        "id": "XVjEkE2nfk4t"
      },
      "source": [
        "#### Range(number) returns an iterable of numbers"
      ]
    },
    {
      "cell_type": "code",
      "execution_count": null,
      "metadata": {
        "id": "V4LTFNxMfk4t"
      },
      "outputs": [],
      "source": [
        "for i in range(4):\n",
        "    print(i)"
      ]
    },
    {
      "cell_type": "markdown",
      "metadata": {
        "id": "27Qpisnzfk4t"
      },
      "source": [
        "#### Range(lower, upper) returns an iterable of numbers from the lower number to the upper number"
      ]
    },
    {
      "cell_type": "code",
      "execution_count": null,
      "metadata": {
        "id": "elS8gLOyfk4t"
      },
      "outputs": [],
      "source": [
        "for i in range(4, 8):\n",
        "    print(i)\n"
      ]
    },
    {
      "cell_type": "markdown",
      "metadata": {
        "id": "ZX3Nf2eHfk4t"
      },
      "source": [
        "#### Range(lower, upper, step)\" returns an iterable of numbers from the lower number to the upper number, while incrementing by step. If step is not indicated, the default value is 1."
      ]
    },
    {
      "cell_type": "code",
      "execution_count": null,
      "metadata": {
        "id": "EU1ODS0kfk4t"
      },
      "outputs": [],
      "source": [
        "for i in range(0, 10, 2):\n",
        "    print(i)"
      ]
    },
    {
      "cell_type": "markdown",
      "metadata": {
        "id": "CLwou2tNfk4u"
      },
      "source": [
        "#### While loops go until a condition is no longer met."
      ]
    },
    {
      "cell_type": "code",
      "execution_count": null,
      "metadata": {
        "id": "6g8GcRrzfk4u"
      },
      "outputs": [],
      "source": [
        "x = 0\n",
        "while x < 4:\n",
        "    print(x)\n",
        "    x += 1  # Shorthand for x = x + 1"
      ]
    },
    {
      "cell_type": "markdown",
      "metadata": {
        "id": "dW8k10fpfk4u"
      },
      "source": [
        "### 4. Functions"
      ]
    },
    {
      "cell_type": "code",
      "execution_count": null,
      "metadata": {
        "id": "zxq6AIvNfk4u"
      },
      "outputs": [],
      "source": [
        "# Use \"def\" to create new functions\n",
        "def add(x, y):\n",
        "    print(\"x is {} and y is {}\".format(x, y))\n",
        "    return x + y  # Return values with a return statement"
      ]
    },
    {
      "cell_type": "code",
      "execution_count": null,
      "metadata": {
        "id": "ekOjt-kVfk4v"
      },
      "outputs": [],
      "source": [
        "add(5, 5)"
      ]
    },
    {
      "cell_type": "code",
      "execution_count": null,
      "metadata": {
        "id": "w_s85gyXfk4v"
      },
      "outputs": [],
      "source": [
        "# Another way to call functions is with keyword arguments\n",
        "\n",
        "add(y=6, x=5)  # Keyword arguments can arrive in any order."
      ]
    },
    {
      "cell_type": "code",
      "execution_count": null,
      "metadata": {
        "id": "EtvgMjrNfk4v"
      },
      "outputs": [],
      "source": [
        "# You can define functions that take a variable number of\n",
        "# positional arguments\n",
        "\n",
        "def varargs(*args):\n",
        "    return args"
      ]
    },
    {
      "cell_type": "code",
      "execution_count": null,
      "metadata": {
        "id": "yGcCJUmifk4v"
      },
      "outputs": [],
      "source": [
        "varargs(1, 2, 3)  # => (1, 2, 3)"
      ]
    },
    {
      "cell_type": "code",
      "execution_count": null,
      "metadata": {
        "id": "VwFqjbiPfk4v"
      },
      "outputs": [],
      "source": [
        "# Returning multiple values (with tuple assignments)\n",
        "\n",
        "def swap(x, y):\n",
        "    return y, x"
      ]
    },
    {
      "cell_type": "code",
      "execution_count": null,
      "metadata": {
        "id": "1dbcFG8qfk4v"
      },
      "outputs": [],
      "source": [
        "x = 1\n",
        "y = 2\n",
        "\n",
        "x, y = swap(x, y)\n",
        "print(x, y)"
      ]
    },
    {
      "cell_type": "code",
      "execution_count": null,
      "metadata": {
        "id": "LQUoUV9ufk4w"
      },
      "outputs": [],
      "source": [
        "# Function Scope\n",
        "x = 5\n",
        "\n",
        "def set_x(num):\n",
        "\n",
        "    # Local var x not the same as global variable x\n",
        "    x = num    # => 43\n",
        "    print(x)   # => 43\n",
        "\n",
        "def set_global_x(num):\n",
        "\n",
        "    global x\n",
        "    print(x)   # => 5\n",
        "    x = num    # global var x is now set to 6\n",
        "    print(x)   # => 6"
      ]
    },
    {
      "cell_type": "code",
      "execution_count": null,
      "metadata": {
        "id": "zylxIrPxfk4w"
      },
      "outputs": [],
      "source": [
        "set_x(43)"
      ]
    },
    {
      "cell_type": "code",
      "execution_count": null,
      "metadata": {
        "id": "wGJVvA05fk4w"
      },
      "outputs": [],
      "source": [
        "set_global_x(6)"
      ]
    },
    {
      "cell_type": "markdown",
      "metadata": {
        "id": "45GiNZETfk4w"
      },
      "source": [
        "#### The confusing lambdas!"
      ]
    },
    {
      "cell_type": "code",
      "execution_count": null,
      "metadata": {
        "id": "2WNI4Zcsfk4x"
      },
      "outputs": [],
      "source": [
        "(lambda x: x > 2)(3)"
      ]
    },
    {
      "cell_type": "code",
      "execution_count": null,
      "metadata": {
        "id": "xxqzJUrnfk4x"
      },
      "outputs": [],
      "source": [
        "(lambda x, y: x ** 2 + y ** 2)(2, 1)  # => 5"
      ]
    },
    {
      "cell_type": "markdown",
      "metadata": {
        "id": "25n5MHEQfk4x"
      },
      "source": [
        "#### Something less confusing"
      ]
    },
    {
      "cell_type": "code",
      "execution_count": null,
      "metadata": {
        "id": "F0GDWYTqfk4x"
      },
      "outputs": [],
      "source": [
        "# List comprehension stores the output as a list which can itself be a nested list\n",
        "\n",
        "[x for x in [3, 4, 5, 6, 7] if x > 5]  # => [6, 7]"
      ]
    },
    {
      "cell_type": "code",
      "execution_count": null,
      "metadata": {
        "id": "WHilfhrYfk4x"
      },
      "outputs": [],
      "source": [
        "# You can construct set and dict comprehensions as well.\n",
        "\n",
        "{x for x in 'abcddeef' if x not in 'abc'}  # => {'d', 'e', 'f'}"
      ]
    },
    {
      "cell_type": "code",
      "execution_count": null,
      "metadata": {
        "id": "a3_hQZesfk4y"
      },
      "outputs": [],
      "source": [
        "{x: x**2 for x in range(5)}  # => {0: 0, 1: 1, 2: 4, 3: 9, 4: 16}"
      ]
    },
    {
      "cell_type": "markdown",
      "metadata": {
        "id": "N-_fNl2Ofk4y"
      },
      "source": [
        "### 5. Modules"
      ]
    },
    {
      "cell_type": "code",
      "execution_count": null,
      "metadata": {
        "id": "cHRD_nvkfk4y"
      },
      "outputs": [],
      "source": [
        "# You can import modules\n",
        "import math\n",
        "print(math.sqrt(16))  # => 4.0"
      ]
    },
    {
      "cell_type": "code",
      "execution_count": null,
      "metadata": {
        "id": "HYsuftpLfk4y"
      },
      "outputs": [],
      "source": [
        "# You can get specific functions from a module\n",
        "\n",
        "from math import ceil, floor\n",
        "print(ceil(3.7))   # => 4.0\n",
        "print(floor(3.7))  # => 3.0"
      ]
    },
    {
      "cell_type": "code",
      "execution_count": null,
      "metadata": {
        "id": "N-EEJJzQfk4y"
      },
      "outputs": [],
      "source": [
        "# You can shorten module names\n",
        "\n",
        "import math as m\n",
        "math.sqrt(16) == m.sqrt(16)  # => True"
      ]
    },
    {
      "cell_type": "code",
      "execution_count": null,
      "metadata": {
        "id": "eW1rs6qMfk4z"
      },
      "outputs": [],
      "source": [
        "dir(math)"
      ]
    },
    {
      "cell_type": "markdown",
      "metadata": {
        "id": "htpbOkqLfk4z"
      },
      "source": [
        "### 6. The dreadful Classes"
      ]
    },
    {
      "cell_type": "code",
      "execution_count": null,
      "metadata": {
        "id": "hqEveCTpfk4z"
      },
      "outputs": [],
      "source": [
        "class FirstClass:\n",
        "    pass"
      ]
    },
    {
      "cell_type": "code",
      "execution_count": null,
      "metadata": {
        "id": "aSCV0gKQfk4z"
      },
      "outputs": [],
      "source": [
        "first_class = FirstClass()\n",
        "first_class"
      ]
    },
    {
      "cell_type": "code",
      "execution_count": null,
      "metadata": {
        "id": "qTDWxr26fk4z"
      },
      "outputs": [],
      "source": [
        "class FirstClass:\n",
        "\n",
        "    # An instance method. All methods take \"self\" as the first argument\n",
        "    def say(self, msg):\n",
        "        print(msg)\n",
        "\n",
        "    def sing(self):\n",
        "        print(\"Who's a good boy!?\")"
      ]
    },
    {
      "cell_type": "code",
      "execution_count": null,
      "metadata": {
        "id": "92T_Ut9qfk4z"
      },
      "outputs": [],
      "source": [
        "first_class = FirstClass()\n",
        "first_class.say(\"Hello World\")"
      ]
    },
    {
      "cell_type": "code",
      "execution_count": null,
      "metadata": {
        "id": "s7-SgzCHfk40"
      },
      "outputs": [],
      "source": [
        "first_class.sing()"
      ]
    },
    {
      "cell_type": "code",
      "execution_count": null,
      "metadata": {
        "id": "vXmLeLHEfk40"
      },
      "outputs": [],
      "source": [
        "class Vehicle:\n",
        "\n",
        "    # Attributes\n",
        "    def __init__(self, wheels, type_of_tank, seat_cap, max_vel):\n",
        "        self.wheels = wheels\n",
        "        self.type_of_tank = type_of_tank\n",
        "        self.seat_cap = seat_cap\n",
        "        self.max_vel = max_vel\n",
        "\n",
        "    # Methods\n",
        "    def wheel(self):\n",
        "        return self.wheels\n",
        "\n",
        "    def set_wheels(self, number):\n",
        "        self.wheels = number\n",
        "\n",
        "    def go(self):\n",
        "        print(\"{} wheels are burning!!!\".format(self.wheels))\n",
        ""
      ]
    },
    {
      "cell_type": "code",
      "execution_count": null,
      "metadata": {
        "id": "gUYRMVsnfk40"
      },
      "outputs": [],
      "source": [
        "tesla = Vehicle(4, 'electric', 5, 250)\n",
        "print(tesla.wheels)"
      ]
    },
    {
      "cell_type": "code",
      "execution_count": null,
      "metadata": {
        "id": "TnZCTF5mfk40"
      },
      "outputs": [],
      "source": [
        "tesla.set_wheels(6)\n",
        "print(tesla.wheels)"
      ]
    },
    {
      "cell_type": "code",
      "execution_count": null,
      "metadata": {
        "id": "dlutD4dAfk40"
      },
      "outputs": [],
      "source": [
        "tesla.go()"
      ]
    },
    {
      "cell_type": "markdown",
      "metadata": {
        "id": "wBXeaYsDfk41"
      },
      "source": [
        "### 7. Files"
      ]
    },
    {
      "cell_type": "markdown",
      "metadata": {
        "id": "a6-cGoAPfk41"
      },
      "source": [
        "\n",
        "* r ->\tread \tRead from an existing file.\n",
        "* w ->\twrite \tWrite to a file. If the file exists, its old content is removed.\n",
        "* a -> append \tWrite to the end of a file, and keep the old content."
      ]
    },
    {
      "cell_type": "code",
      "execution_count": null,
      "metadata": {
        "id": "0IOpLkHyfk41"
      },
      "outputs": [],
      "source": [
        "with open('hello.txt', 'w') as f:\n",
        "    # write single line in text file\n",
        "    #print(\"Hello World!\", file=f)\n",
        "\n",
        "    # write many lines\n",
        "    for i in range(5):\n",
        "        f.write(str(i))\n",
        "        f.write(\"\\n\")\n",
        "\n",
        "f.close()"
      ]
    },
    {
      "cell_type": "code",
      "execution_count": null,
      "metadata": {
        "id": "hmDhuyQEfk41"
      },
      "outputs": [],
      "source": [
        "with open('hello.txt', 'r') as f:\n",
        "    for line in f:\n",
        "        print(line)\n",
        "\n",
        "f.close()"
      ]
    },
    {
      "cell_type": "code",
      "execution_count": null,
      "metadata": {
        "scrolled": true,
        "id": "DP1LRmOqfk41"
      },
      "outputs": [],
      "source": [
        "show_image('were-finished.jpg')"
      ]
    },
    {
      "cell_type": "markdown",
      "metadata": {
        "id": "UkC33xsRfk42"
      },
      "source": [
        "#### Takeaways!\n",
        "\n",
        "### “programs must be written for people to read, and only incidentally for machines to execute”  - anonymous software engineer...\n",
        "\n",
        "Some libraries and frameworks you might want to look into\n",
        "\n",
        "* numpy\n",
        "* pandas\n",
        "* matplotlib\n",
        "* pytest\n",
        "\n",
        "Google for the other awesome stuffs out there!\n",
        "\n",
        "Some useful links:\n",
        "\n",
        "*  [Python Docs](https://docs.python.org/3/tutorial/index.html)\n",
        "*  [Learn Python the Hard Way](https://learnpythonthehardway.org/)\n",
        "*  [Codecademy](https://www.codecademy.com/learn/learn-python)\n",
        "*  [Algorithms- Python](https://github.com/TheAlgorithms/Python)\n"
      ]
    },
    {
      "cell_type": "code",
      "execution_count": null,
      "metadata": {
        "id": "hLZIA73ufk42"
      },
      "outputs": [],
      "source": [
        "print(\"The End!\")"
      ]
    },
    {
      "cell_type": "code",
      "execution_count": null,
      "metadata": {
        "id": "eDgBgGolfk42"
      },
      "outputs": [],
      "source": []
    }
  ],
  "metadata": {
    "kernelspec": {
      "display_name": "Python 3",
      "language": "python",
      "name": "python3"
    },
    "language_info": {
      "codemirror_mode": {
        "name": "ipython",
        "version": 3
      },
      "file_extension": ".py",
      "mimetype": "text/x-python",
      "name": "python",
      "nbconvert_exporter": "python",
      "pygments_lexer": "ipython3",
      "version": "3.7.0"
    },
    "colab": {
      "provenance": []
    }
  },
  "nbformat": 4,
  "nbformat_minor": 0
}